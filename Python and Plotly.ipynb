{
 "cells": [
  {
   "cell_type": "code",
   "execution_count": 58,
   "id": "ad8eef68",
   "metadata": {},
   "outputs": [],
   "source": [
    "import pandas as pd\n",
    "import numpy as np\n",
    "import matplotlib.pyplot as plt\n",
    "import seaborn as sns\n",
    "import plotly.express as px\n",
    "%matplotlib inline"
   ]
  },
  {
   "cell_type": "code",
   "execution_count": 5,
   "id": "37399de0",
   "metadata": {},
   "outputs": [],
   "source": [
    "df = pd.read_csv('Cleaned_SQL_data.csv')"
   ]
  },
  {
   "cell_type": "code",
   "execution_count": 6,
   "id": "5f98ff71",
   "metadata": {},
   "outputs": [
    {
     "data": {
      "text/html": [
       "<div>\n",
       "<style scoped>\n",
       "    .dataframe tbody tr th:only-of-type {\n",
       "        vertical-align: middle;\n",
       "    }\n",
       "\n",
       "    .dataframe tbody tr th {\n",
       "        vertical-align: top;\n",
       "    }\n",
       "\n",
       "    .dataframe thead th {\n",
       "        text-align: right;\n",
       "    }\n",
       "</style>\n",
       "<table border=\"1\" class=\"dataframe\">\n",
       "  <thead>\n",
       "    <tr style=\"text-align: right;\">\n",
       "      <th></th>\n",
       "      <th>UniqueID</th>\n",
       "      <th>ParcelID</th>\n",
       "      <th>LandUse</th>\n",
       "      <th>SalePrice</th>\n",
       "      <th>LegalReference</th>\n",
       "      <th>SoldAsVacant</th>\n",
       "      <th>OwnerName</th>\n",
       "      <th>Acreage</th>\n",
       "      <th>LandValue</th>\n",
       "      <th>BuildingValue</th>\n",
       "      <th>...</th>\n",
       "      <th>YearBuilt</th>\n",
       "      <th>Bedrooms</th>\n",
       "      <th>FullBath</th>\n",
       "      <th>HalfBath</th>\n",
       "      <th>SalesDateConverted</th>\n",
       "      <th>PropertySplitAddress</th>\n",
       "      <th>PropertySplitCity</th>\n",
       "      <th>OwnerSplitAddress</th>\n",
       "      <th>OwnerSplitCity</th>\n",
       "      <th>OwnerSplitState</th>\n",
       "    </tr>\n",
       "  </thead>\n",
       "  <tbody>\n",
       "    <tr>\n",
       "      <th>0</th>\n",
       "      <td>2045</td>\n",
       "      <td>007 00 0 125.00</td>\n",
       "      <td>SINGLE FAMILY</td>\n",
       "      <td>240000</td>\n",
       "      <td>20130412-0036474</td>\n",
       "      <td>No</td>\n",
       "      <td>FRAZIER, CYRENTHA LYNETTE</td>\n",
       "      <td>2.3</td>\n",
       "      <td>50000.0</td>\n",
       "      <td>168200.0</td>\n",
       "      <td>...</td>\n",
       "      <td>1986.0</td>\n",
       "      <td>3.0</td>\n",
       "      <td>3.0</td>\n",
       "      <td>0.0</td>\n",
       "      <td>4/9/2013</td>\n",
       "      <td>1808  FOX CHASE DR</td>\n",
       "      <td>GOODLETTSVILLE</td>\n",
       "      <td>1808  FOX CHASE DR</td>\n",
       "      <td>GOODLETTSVILLE</td>\n",
       "      <td>TN</td>\n",
       "    </tr>\n",
       "    <tr>\n",
       "      <th>1</th>\n",
       "      <td>16918</td>\n",
       "      <td>007 00 0 130.00</td>\n",
       "      <td>SINGLE FAMILY</td>\n",
       "      <td>366000</td>\n",
       "      <td>20140619-0053768</td>\n",
       "      <td>No</td>\n",
       "      <td>BONER, CHARLES &amp; LESLIE</td>\n",
       "      <td>3.5</td>\n",
       "      <td>50000.0</td>\n",
       "      <td>264100.0</td>\n",
       "      <td>...</td>\n",
       "      <td>1998.0</td>\n",
       "      <td>3.0</td>\n",
       "      <td>3.0</td>\n",
       "      <td>2.0</td>\n",
       "      <td>6/10/2014</td>\n",
       "      <td>1832  FOX CHASE DR</td>\n",
       "      <td>GOODLETTSVILLE</td>\n",
       "      <td>1832  FOX CHASE DR</td>\n",
       "      <td>GOODLETTSVILLE</td>\n",
       "      <td>TN</td>\n",
       "    </tr>\n",
       "    <tr>\n",
       "      <th>2</th>\n",
       "      <td>54582</td>\n",
       "      <td>007 00 0 138.00</td>\n",
       "      <td>SINGLE FAMILY</td>\n",
       "      <td>435000</td>\n",
       "      <td>20160927-0101718</td>\n",
       "      <td>No</td>\n",
       "      <td>WILSON, JAMES E. &amp; JOANNE</td>\n",
       "      <td>2.9</td>\n",
       "      <td>50000.0</td>\n",
       "      <td>216200.0</td>\n",
       "      <td>...</td>\n",
       "      <td>1987.0</td>\n",
       "      <td>4.0</td>\n",
       "      <td>3.0</td>\n",
       "      <td>0.0</td>\n",
       "      <td>9/26/2016</td>\n",
       "      <td>1864 FOX CHASE  DR</td>\n",
       "      <td>GOODLETTSVILLE</td>\n",
       "      <td>1864  FOX CHASE DR</td>\n",
       "      <td>GOODLETTSVILLE</td>\n",
       "      <td>TN</td>\n",
       "    </tr>\n",
       "    <tr>\n",
       "      <th>3</th>\n",
       "      <td>43070</td>\n",
       "      <td>007 00 0 143.00</td>\n",
       "      <td>SINGLE FAMILY</td>\n",
       "      <td>255000</td>\n",
       "      <td>20160129-0008913</td>\n",
       "      <td>No</td>\n",
       "      <td>BAKER, JAY K. &amp; SUSAN E.</td>\n",
       "      <td>2.6</td>\n",
       "      <td>50000.0</td>\n",
       "      <td>147300.0</td>\n",
       "      <td>...</td>\n",
       "      <td>1985.0</td>\n",
       "      <td>3.0</td>\n",
       "      <td>3.0</td>\n",
       "      <td>0.0</td>\n",
       "      <td>1/29/2016</td>\n",
       "      <td>1853  FOX CHASE DR</td>\n",
       "      <td>GOODLETTSVILLE</td>\n",
       "      <td>1853  FOX CHASE DR</td>\n",
       "      <td>GOODLETTSVILLE</td>\n",
       "      <td>TN</td>\n",
       "    </tr>\n",
       "    <tr>\n",
       "      <th>4</th>\n",
       "      <td>22714</td>\n",
       "      <td>007 00 0 149.00</td>\n",
       "      <td>SINGLE FAMILY</td>\n",
       "      <td>278000</td>\n",
       "      <td>20141015-0095255</td>\n",
       "      <td>No</td>\n",
       "      <td>POST, CHRISTOPHER M. &amp; SAMANTHA C.</td>\n",
       "      <td>2.0</td>\n",
       "      <td>50000.0</td>\n",
       "      <td>152300.0</td>\n",
       "      <td>...</td>\n",
       "      <td>1984.0</td>\n",
       "      <td>4.0</td>\n",
       "      <td>3.0</td>\n",
       "      <td>0.0</td>\n",
       "      <td>10/10/2014</td>\n",
       "      <td>1829  FOX CHASE DR</td>\n",
       "      <td>GOODLETTSVILLE</td>\n",
       "      <td>1829  FOX CHASE DR</td>\n",
       "      <td>GOODLETTSVILLE</td>\n",
       "      <td>TN</td>\n",
       "    </tr>\n",
       "  </tbody>\n",
       "</table>\n",
       "<p>5 rows × 21 columns</p>\n",
       "</div>"
      ],
      "text/plain": [
       "   UniqueID          ParcelID        LandUse  SalePrice    LegalReference  \\\n",
       "0       2045  007 00 0 125.00  SINGLE FAMILY     240000  20130412-0036474   \n",
       "1      16918  007 00 0 130.00  SINGLE FAMILY     366000  20140619-0053768   \n",
       "2      54582  007 00 0 138.00  SINGLE FAMILY     435000  20160927-0101718   \n",
       "3      43070  007 00 0 143.00  SINGLE FAMILY     255000  20160129-0008913   \n",
       "4      22714  007 00 0 149.00  SINGLE FAMILY     278000  20141015-0095255   \n",
       "\n",
       "  SoldAsVacant                           OwnerName  Acreage  LandValue  \\\n",
       "0           No           FRAZIER, CYRENTHA LYNETTE      2.3    50000.0   \n",
       "1           No             BONER, CHARLES & LESLIE      3.5    50000.0   \n",
       "2           No           WILSON, JAMES E. & JOANNE      2.9    50000.0   \n",
       "3           No            BAKER, JAY K. & SUSAN E.      2.6    50000.0   \n",
       "4           No  POST, CHRISTOPHER M. & SAMANTHA C.      2.0    50000.0   \n",
       "\n",
       "   BuildingValue  ...  YearBuilt  Bedrooms  FullBath  HalfBath  \\\n",
       "0       168200.0  ...     1986.0       3.0       3.0       0.0   \n",
       "1       264100.0  ...     1998.0       3.0       3.0       2.0   \n",
       "2       216200.0  ...     1987.0       4.0       3.0       0.0   \n",
       "3       147300.0  ...     1985.0       3.0       3.0       0.0   \n",
       "4       152300.0  ...     1984.0       4.0       3.0       0.0   \n",
       "\n",
       "   SalesDateConverted PropertySplitAddress PropertySplitCity  \\\n",
       "0            4/9/2013   1808  FOX CHASE DR    GOODLETTSVILLE   \n",
       "1           6/10/2014   1832  FOX CHASE DR    GOODLETTSVILLE   \n",
       "2           9/26/2016   1864 FOX CHASE  DR    GOODLETTSVILLE   \n",
       "3           1/29/2016   1853  FOX CHASE DR    GOODLETTSVILLE   \n",
       "4          10/10/2014   1829  FOX CHASE DR    GOODLETTSVILLE   \n",
       "\n",
       "    OwnerSplitAddress   OwnerSplitCity OwnerSplitState  \n",
       "0  1808  FOX CHASE DR   GOODLETTSVILLE              TN  \n",
       "1  1832  FOX CHASE DR   GOODLETTSVILLE              TN  \n",
       "2  1864  FOX CHASE DR   GOODLETTSVILLE              TN  \n",
       "3  1853  FOX CHASE DR   GOODLETTSVILLE              TN  \n",
       "4  1829  FOX CHASE DR   GOODLETTSVILLE              TN  \n",
       "\n",
       "[5 rows x 21 columns]"
      ]
     },
     "execution_count": 6,
     "metadata": {},
     "output_type": "execute_result"
    }
   ],
   "source": [
    "df.head()"
   ]
  },
  {
   "cell_type": "code",
   "execution_count": 8,
   "id": "18c366c8",
   "metadata": {},
   "outputs": [
    {
     "name": "stdout",
     "output_type": "stream",
     "text": [
      "<class 'pandas.core.frame.DataFrame'>\n",
      "RangeIndex: 56373 entries, 0 to 56372\n",
      "Data columns (total 21 columns):\n",
      " #   Column                Non-Null Count  Dtype  \n",
      "---  ------                --------------  -----  \n",
      " 0   UniqueID              56373 non-null  int64  \n",
      " 1   ParcelID              56373 non-null  object \n",
      " 2   LandUse               56373 non-null  object \n",
      " 3   SalePrice             56373 non-null  int64  \n",
      " 4   LegalReference        56373 non-null  object \n",
      " 5   SoldAsVacant          56373 non-null  object \n",
      " 6   OwnerName             25215 non-null  object \n",
      " 7   Acreage               25969 non-null  float64\n",
      " 8   LandValue             25969 non-null  float64\n",
      " 9   BuildingValue         25969 non-null  float64\n",
      " 10  TotalValue            25969 non-null  float64\n",
      " 11  YearBuilt             24118 non-null  float64\n",
      " 12  Bedrooms              24112 non-null  float64\n",
      " 13  FullBath              24230 non-null  float64\n",
      " 14  HalfBath              24099 non-null  float64\n",
      " 15  SalesDateConverted    56373 non-null  object \n",
      " 16  PropertySplitAddress  56373 non-null  object \n",
      " 17  PropertySplitCity     56373 non-null  object \n",
      " 18  OwnerSplitAddress     25969 non-null  object \n",
      " 19  OwnerSplitCity        25969 non-null  object \n",
      " 20  OwnerSplitState       25969 non-null  object \n",
      "dtypes: float64(8), int64(2), object(11)\n",
      "memory usage: 9.0+ MB\n"
     ]
    }
   ],
   "source": [
    "df.info()"
   ]
  },
  {
   "cell_type": "code",
   "execution_count": 12,
   "id": "aea83b9e",
   "metadata": {},
   "outputs": [],
   "source": [
    "df = df.rename(columns = {\n",
    "    'LandUse': 'land_use', 'SalePrice':'sale_price', 'SoldAsVacant':'sold_as_vacant', 'PropertySplitCity':'property_city',\n",
    "    'SalesDateConverted':'Sale_year'\n",
    " })"
   ]
  },
  {
   "cell_type": "code",
   "execution_count": 13,
   "id": "4fb60f3d",
   "metadata": {},
   "outputs": [
    {
     "data": {
      "text/html": [
       "<div>\n",
       "<style scoped>\n",
       "    .dataframe tbody tr th:only-of-type {\n",
       "        vertical-align: middle;\n",
       "    }\n",
       "\n",
       "    .dataframe tbody tr th {\n",
       "        vertical-align: top;\n",
       "    }\n",
       "\n",
       "    .dataframe thead th {\n",
       "        text-align: right;\n",
       "    }\n",
       "</style>\n",
       "<table border=\"1\" class=\"dataframe\">\n",
       "  <thead>\n",
       "    <tr style=\"text-align: right;\">\n",
       "      <th></th>\n",
       "      <th>UniqueID</th>\n",
       "      <th>ParcelID</th>\n",
       "      <th>land_use</th>\n",
       "      <th>sale_price</th>\n",
       "      <th>LegalReference</th>\n",
       "      <th>sold_as_vacant</th>\n",
       "      <th>OwnerName</th>\n",
       "      <th>Acreage</th>\n",
       "      <th>LandValue</th>\n",
       "      <th>BuildingValue</th>\n",
       "      <th>...</th>\n",
       "      <th>YearBuilt</th>\n",
       "      <th>Bedrooms</th>\n",
       "      <th>FullBath</th>\n",
       "      <th>HalfBath</th>\n",
       "      <th>Sale_year</th>\n",
       "      <th>PropertySplitAddress</th>\n",
       "      <th>property_city</th>\n",
       "      <th>OwnerSplitAddress</th>\n",
       "      <th>OwnerSplitCity</th>\n",
       "      <th>OwnerSplitState</th>\n",
       "    </tr>\n",
       "  </thead>\n",
       "  <tbody>\n",
       "    <tr>\n",
       "      <th>0</th>\n",
       "      <td>2045</td>\n",
       "      <td>007 00 0 125.00</td>\n",
       "      <td>SINGLE FAMILY</td>\n",
       "      <td>240000</td>\n",
       "      <td>20130412-0036474</td>\n",
       "      <td>No</td>\n",
       "      <td>FRAZIER, CYRENTHA LYNETTE</td>\n",
       "      <td>2.3</td>\n",
       "      <td>50000.0</td>\n",
       "      <td>168200.0</td>\n",
       "      <td>...</td>\n",
       "      <td>1986.0</td>\n",
       "      <td>3.0</td>\n",
       "      <td>3.0</td>\n",
       "      <td>0.0</td>\n",
       "      <td>4/9/2013</td>\n",
       "      <td>1808  FOX CHASE DR</td>\n",
       "      <td>GOODLETTSVILLE</td>\n",
       "      <td>1808  FOX CHASE DR</td>\n",
       "      <td>GOODLETTSVILLE</td>\n",
       "      <td>TN</td>\n",
       "    </tr>\n",
       "    <tr>\n",
       "      <th>1</th>\n",
       "      <td>16918</td>\n",
       "      <td>007 00 0 130.00</td>\n",
       "      <td>SINGLE FAMILY</td>\n",
       "      <td>366000</td>\n",
       "      <td>20140619-0053768</td>\n",
       "      <td>No</td>\n",
       "      <td>BONER, CHARLES &amp; LESLIE</td>\n",
       "      <td>3.5</td>\n",
       "      <td>50000.0</td>\n",
       "      <td>264100.0</td>\n",
       "      <td>...</td>\n",
       "      <td>1998.0</td>\n",
       "      <td>3.0</td>\n",
       "      <td>3.0</td>\n",
       "      <td>2.0</td>\n",
       "      <td>6/10/2014</td>\n",
       "      <td>1832  FOX CHASE DR</td>\n",
       "      <td>GOODLETTSVILLE</td>\n",
       "      <td>1832  FOX CHASE DR</td>\n",
       "      <td>GOODLETTSVILLE</td>\n",
       "      <td>TN</td>\n",
       "    </tr>\n",
       "    <tr>\n",
       "      <th>2</th>\n",
       "      <td>54582</td>\n",
       "      <td>007 00 0 138.00</td>\n",
       "      <td>SINGLE FAMILY</td>\n",
       "      <td>435000</td>\n",
       "      <td>20160927-0101718</td>\n",
       "      <td>No</td>\n",
       "      <td>WILSON, JAMES E. &amp; JOANNE</td>\n",
       "      <td>2.9</td>\n",
       "      <td>50000.0</td>\n",
       "      <td>216200.0</td>\n",
       "      <td>...</td>\n",
       "      <td>1987.0</td>\n",
       "      <td>4.0</td>\n",
       "      <td>3.0</td>\n",
       "      <td>0.0</td>\n",
       "      <td>9/26/2016</td>\n",
       "      <td>1864 FOX CHASE  DR</td>\n",
       "      <td>GOODLETTSVILLE</td>\n",
       "      <td>1864  FOX CHASE DR</td>\n",
       "      <td>GOODLETTSVILLE</td>\n",
       "      <td>TN</td>\n",
       "    </tr>\n",
       "    <tr>\n",
       "      <th>3</th>\n",
       "      <td>43070</td>\n",
       "      <td>007 00 0 143.00</td>\n",
       "      <td>SINGLE FAMILY</td>\n",
       "      <td>255000</td>\n",
       "      <td>20160129-0008913</td>\n",
       "      <td>No</td>\n",
       "      <td>BAKER, JAY K. &amp; SUSAN E.</td>\n",
       "      <td>2.6</td>\n",
       "      <td>50000.0</td>\n",
       "      <td>147300.0</td>\n",
       "      <td>...</td>\n",
       "      <td>1985.0</td>\n",
       "      <td>3.0</td>\n",
       "      <td>3.0</td>\n",
       "      <td>0.0</td>\n",
       "      <td>1/29/2016</td>\n",
       "      <td>1853  FOX CHASE DR</td>\n",
       "      <td>GOODLETTSVILLE</td>\n",
       "      <td>1853  FOX CHASE DR</td>\n",
       "      <td>GOODLETTSVILLE</td>\n",
       "      <td>TN</td>\n",
       "    </tr>\n",
       "    <tr>\n",
       "      <th>4</th>\n",
       "      <td>22714</td>\n",
       "      <td>007 00 0 149.00</td>\n",
       "      <td>SINGLE FAMILY</td>\n",
       "      <td>278000</td>\n",
       "      <td>20141015-0095255</td>\n",
       "      <td>No</td>\n",
       "      <td>POST, CHRISTOPHER M. &amp; SAMANTHA C.</td>\n",
       "      <td>2.0</td>\n",
       "      <td>50000.0</td>\n",
       "      <td>152300.0</td>\n",
       "      <td>...</td>\n",
       "      <td>1984.0</td>\n",
       "      <td>4.0</td>\n",
       "      <td>3.0</td>\n",
       "      <td>0.0</td>\n",
       "      <td>10/10/2014</td>\n",
       "      <td>1829  FOX CHASE DR</td>\n",
       "      <td>GOODLETTSVILLE</td>\n",
       "      <td>1829  FOX CHASE DR</td>\n",
       "      <td>GOODLETTSVILLE</td>\n",
       "      <td>TN</td>\n",
       "    </tr>\n",
       "  </tbody>\n",
       "</table>\n",
       "<p>5 rows × 21 columns</p>\n",
       "</div>"
      ],
      "text/plain": [
       "   UniqueID          ParcelID       land_use  sale_price    LegalReference  \\\n",
       "0       2045  007 00 0 125.00  SINGLE FAMILY      240000  20130412-0036474   \n",
       "1      16918  007 00 0 130.00  SINGLE FAMILY      366000  20140619-0053768   \n",
       "2      54582  007 00 0 138.00  SINGLE FAMILY      435000  20160927-0101718   \n",
       "3      43070  007 00 0 143.00  SINGLE FAMILY      255000  20160129-0008913   \n",
       "4      22714  007 00 0 149.00  SINGLE FAMILY      278000  20141015-0095255   \n",
       "\n",
       "  sold_as_vacant                           OwnerName  Acreage  LandValue  \\\n",
       "0             No           FRAZIER, CYRENTHA LYNETTE      2.3    50000.0   \n",
       "1             No             BONER, CHARLES & LESLIE      3.5    50000.0   \n",
       "2             No           WILSON, JAMES E. & JOANNE      2.9    50000.0   \n",
       "3             No            BAKER, JAY K. & SUSAN E.      2.6    50000.0   \n",
       "4             No  POST, CHRISTOPHER M. & SAMANTHA C.      2.0    50000.0   \n",
       "\n",
       "   BuildingValue  ...  YearBuilt  Bedrooms  FullBath  HalfBath   Sale_year  \\\n",
       "0       168200.0  ...     1986.0       3.0       3.0       0.0    4/9/2013   \n",
       "1       264100.0  ...     1998.0       3.0       3.0       2.0   6/10/2014   \n",
       "2       216200.0  ...     1987.0       4.0       3.0       0.0   9/26/2016   \n",
       "3       147300.0  ...     1985.0       3.0       3.0       0.0   1/29/2016   \n",
       "4       152300.0  ...     1984.0       4.0       3.0       0.0  10/10/2014   \n",
       "\n",
       "  PropertySplitAddress    property_city   OwnerSplitAddress   OwnerSplitCity  \\\n",
       "0   1808  FOX CHASE DR   GOODLETTSVILLE  1808  FOX CHASE DR   GOODLETTSVILLE   \n",
       "1   1832  FOX CHASE DR   GOODLETTSVILLE  1832  FOX CHASE DR   GOODLETTSVILLE   \n",
       "2   1864 FOX CHASE  DR   GOODLETTSVILLE  1864  FOX CHASE DR   GOODLETTSVILLE   \n",
       "3   1853  FOX CHASE DR   GOODLETTSVILLE  1853  FOX CHASE DR   GOODLETTSVILLE   \n",
       "4   1829  FOX CHASE DR   GOODLETTSVILLE  1829  FOX CHASE DR   GOODLETTSVILLE   \n",
       "\n",
       "  OwnerSplitState  \n",
       "0              TN  \n",
       "1              TN  \n",
       "2              TN  \n",
       "3              TN  \n",
       "4              TN  \n",
       "\n",
       "[5 rows x 21 columns]"
      ]
     },
     "execution_count": 13,
     "metadata": {},
     "output_type": "execute_result"
    }
   ],
   "source": [
    "df.head()"
   ]
  },
  {
   "cell_type": "code",
   "execution_count": 14,
   "id": "91e83be9",
   "metadata": {},
   "outputs": [],
   "source": [
    "df_copy = df.copy()"
   ]
  },
  {
   "cell_type": "code",
   "execution_count": 15,
   "id": "defb0ba5",
   "metadata": {},
   "outputs": [
    {
     "data": {
      "text/html": [
       "<div>\n",
       "<style scoped>\n",
       "    .dataframe tbody tr th:only-of-type {\n",
       "        vertical-align: middle;\n",
       "    }\n",
       "\n",
       "    .dataframe tbody tr th {\n",
       "        vertical-align: top;\n",
       "    }\n",
       "\n",
       "    .dataframe thead th {\n",
       "        text-align: right;\n",
       "    }\n",
       "</style>\n",
       "<table border=\"1\" class=\"dataframe\">\n",
       "  <thead>\n",
       "    <tr style=\"text-align: right;\">\n",
       "      <th></th>\n",
       "      <th>UniqueID</th>\n",
       "      <th>ParcelID</th>\n",
       "      <th>land_use</th>\n",
       "      <th>sale_price</th>\n",
       "      <th>LegalReference</th>\n",
       "      <th>sold_as_vacant</th>\n",
       "      <th>OwnerName</th>\n",
       "      <th>Acreage</th>\n",
       "      <th>LandValue</th>\n",
       "      <th>BuildingValue</th>\n",
       "      <th>...</th>\n",
       "      <th>YearBuilt</th>\n",
       "      <th>Bedrooms</th>\n",
       "      <th>FullBath</th>\n",
       "      <th>HalfBath</th>\n",
       "      <th>Sale_year</th>\n",
       "      <th>PropertySplitAddress</th>\n",
       "      <th>property_city</th>\n",
       "      <th>OwnerSplitAddress</th>\n",
       "      <th>OwnerSplitCity</th>\n",
       "      <th>OwnerSplitState</th>\n",
       "    </tr>\n",
       "  </thead>\n",
       "  <tbody>\n",
       "    <tr>\n",
       "      <th>0</th>\n",
       "      <td>2045</td>\n",
       "      <td>007 00 0 125.00</td>\n",
       "      <td>SINGLE FAMILY</td>\n",
       "      <td>240000</td>\n",
       "      <td>20130412-0036474</td>\n",
       "      <td>No</td>\n",
       "      <td>FRAZIER, CYRENTHA LYNETTE</td>\n",
       "      <td>2.3</td>\n",
       "      <td>50000.0</td>\n",
       "      <td>168200.0</td>\n",
       "      <td>...</td>\n",
       "      <td>1986.0</td>\n",
       "      <td>3.0</td>\n",
       "      <td>3.0</td>\n",
       "      <td>0.0</td>\n",
       "      <td>4/9/2013</td>\n",
       "      <td>1808  FOX CHASE DR</td>\n",
       "      <td>GOODLETTSVILLE</td>\n",
       "      <td>1808  FOX CHASE DR</td>\n",
       "      <td>GOODLETTSVILLE</td>\n",
       "      <td>TN</td>\n",
       "    </tr>\n",
       "    <tr>\n",
       "      <th>1</th>\n",
       "      <td>16918</td>\n",
       "      <td>007 00 0 130.00</td>\n",
       "      <td>SINGLE FAMILY</td>\n",
       "      <td>366000</td>\n",
       "      <td>20140619-0053768</td>\n",
       "      <td>No</td>\n",
       "      <td>BONER, CHARLES &amp; LESLIE</td>\n",
       "      <td>3.5</td>\n",
       "      <td>50000.0</td>\n",
       "      <td>264100.0</td>\n",
       "      <td>...</td>\n",
       "      <td>1998.0</td>\n",
       "      <td>3.0</td>\n",
       "      <td>3.0</td>\n",
       "      <td>2.0</td>\n",
       "      <td>6/10/2014</td>\n",
       "      <td>1832  FOX CHASE DR</td>\n",
       "      <td>GOODLETTSVILLE</td>\n",
       "      <td>1832  FOX CHASE DR</td>\n",
       "      <td>GOODLETTSVILLE</td>\n",
       "      <td>TN</td>\n",
       "    </tr>\n",
       "    <tr>\n",
       "      <th>2</th>\n",
       "      <td>54582</td>\n",
       "      <td>007 00 0 138.00</td>\n",
       "      <td>SINGLE FAMILY</td>\n",
       "      <td>435000</td>\n",
       "      <td>20160927-0101718</td>\n",
       "      <td>No</td>\n",
       "      <td>WILSON, JAMES E. &amp; JOANNE</td>\n",
       "      <td>2.9</td>\n",
       "      <td>50000.0</td>\n",
       "      <td>216200.0</td>\n",
       "      <td>...</td>\n",
       "      <td>1987.0</td>\n",
       "      <td>4.0</td>\n",
       "      <td>3.0</td>\n",
       "      <td>0.0</td>\n",
       "      <td>9/26/2016</td>\n",
       "      <td>1864 FOX CHASE  DR</td>\n",
       "      <td>GOODLETTSVILLE</td>\n",
       "      <td>1864  FOX CHASE DR</td>\n",
       "      <td>GOODLETTSVILLE</td>\n",
       "      <td>TN</td>\n",
       "    </tr>\n",
       "    <tr>\n",
       "      <th>3</th>\n",
       "      <td>43070</td>\n",
       "      <td>007 00 0 143.00</td>\n",
       "      <td>SINGLE FAMILY</td>\n",
       "      <td>255000</td>\n",
       "      <td>20160129-0008913</td>\n",
       "      <td>No</td>\n",
       "      <td>BAKER, JAY K. &amp; SUSAN E.</td>\n",
       "      <td>2.6</td>\n",
       "      <td>50000.0</td>\n",
       "      <td>147300.0</td>\n",
       "      <td>...</td>\n",
       "      <td>1985.0</td>\n",
       "      <td>3.0</td>\n",
       "      <td>3.0</td>\n",
       "      <td>0.0</td>\n",
       "      <td>1/29/2016</td>\n",
       "      <td>1853  FOX CHASE DR</td>\n",
       "      <td>GOODLETTSVILLE</td>\n",
       "      <td>1853  FOX CHASE DR</td>\n",
       "      <td>GOODLETTSVILLE</td>\n",
       "      <td>TN</td>\n",
       "    </tr>\n",
       "    <tr>\n",
       "      <th>4</th>\n",
       "      <td>22714</td>\n",
       "      <td>007 00 0 149.00</td>\n",
       "      <td>SINGLE FAMILY</td>\n",
       "      <td>278000</td>\n",
       "      <td>20141015-0095255</td>\n",
       "      <td>No</td>\n",
       "      <td>POST, CHRISTOPHER M. &amp; SAMANTHA C.</td>\n",
       "      <td>2.0</td>\n",
       "      <td>50000.0</td>\n",
       "      <td>152300.0</td>\n",
       "      <td>...</td>\n",
       "      <td>1984.0</td>\n",
       "      <td>4.0</td>\n",
       "      <td>3.0</td>\n",
       "      <td>0.0</td>\n",
       "      <td>10/10/2014</td>\n",
       "      <td>1829  FOX CHASE DR</td>\n",
       "      <td>GOODLETTSVILLE</td>\n",
       "      <td>1829  FOX CHASE DR</td>\n",
       "      <td>GOODLETTSVILLE</td>\n",
       "      <td>TN</td>\n",
       "    </tr>\n",
       "  </tbody>\n",
       "</table>\n",
       "<p>5 rows × 21 columns</p>\n",
       "</div>"
      ],
      "text/plain": [
       "   UniqueID          ParcelID       land_use  sale_price    LegalReference  \\\n",
       "0       2045  007 00 0 125.00  SINGLE FAMILY      240000  20130412-0036474   \n",
       "1      16918  007 00 0 130.00  SINGLE FAMILY      366000  20140619-0053768   \n",
       "2      54582  007 00 0 138.00  SINGLE FAMILY      435000  20160927-0101718   \n",
       "3      43070  007 00 0 143.00  SINGLE FAMILY      255000  20160129-0008913   \n",
       "4      22714  007 00 0 149.00  SINGLE FAMILY      278000  20141015-0095255   \n",
       "\n",
       "  sold_as_vacant                           OwnerName  Acreage  LandValue  \\\n",
       "0             No           FRAZIER, CYRENTHA LYNETTE      2.3    50000.0   \n",
       "1             No             BONER, CHARLES & LESLIE      3.5    50000.0   \n",
       "2             No           WILSON, JAMES E. & JOANNE      2.9    50000.0   \n",
       "3             No            BAKER, JAY K. & SUSAN E.      2.6    50000.0   \n",
       "4             No  POST, CHRISTOPHER M. & SAMANTHA C.      2.0    50000.0   \n",
       "\n",
       "   BuildingValue  ...  YearBuilt  Bedrooms  FullBath  HalfBath   Sale_year  \\\n",
       "0       168200.0  ...     1986.0       3.0       3.0       0.0    4/9/2013   \n",
       "1       264100.0  ...     1998.0       3.0       3.0       2.0   6/10/2014   \n",
       "2       216200.0  ...     1987.0       4.0       3.0       0.0   9/26/2016   \n",
       "3       147300.0  ...     1985.0       3.0       3.0       0.0   1/29/2016   \n",
       "4       152300.0  ...     1984.0       4.0       3.0       0.0  10/10/2014   \n",
       "\n",
       "  PropertySplitAddress    property_city   OwnerSplitAddress   OwnerSplitCity  \\\n",
       "0   1808  FOX CHASE DR   GOODLETTSVILLE  1808  FOX CHASE DR   GOODLETTSVILLE   \n",
       "1   1832  FOX CHASE DR   GOODLETTSVILLE  1832  FOX CHASE DR   GOODLETTSVILLE   \n",
       "2   1864 FOX CHASE  DR   GOODLETTSVILLE  1864  FOX CHASE DR   GOODLETTSVILLE   \n",
       "3   1853  FOX CHASE DR   GOODLETTSVILLE  1853  FOX CHASE DR   GOODLETTSVILLE   \n",
       "4   1829  FOX CHASE DR   GOODLETTSVILLE  1829  FOX CHASE DR   GOODLETTSVILLE   \n",
       "\n",
       "  OwnerSplitState  \n",
       "0              TN  \n",
       "1              TN  \n",
       "2              TN  \n",
       "3              TN  \n",
       "4              TN  \n",
       "\n",
       "[5 rows x 21 columns]"
      ]
     },
     "execution_count": 15,
     "metadata": {},
     "output_type": "execute_result"
    }
   ],
   "source": [
    "df_copy.head()"
   ]
  },
  {
   "cell_type": "code",
   "execution_count": 22,
   "id": "d5250a29",
   "metadata": {},
   "outputs": [
    {
     "data": {
      "text/html": [
       "<div>\n",
       "<style scoped>\n",
       "    .dataframe tbody tr th:only-of-type {\n",
       "        vertical-align: middle;\n",
       "    }\n",
       "\n",
       "    .dataframe tbody tr th {\n",
       "        vertical-align: top;\n",
       "    }\n",
       "\n",
       "    .dataframe thead th {\n",
       "        text-align: right;\n",
       "    }\n",
       "</style>\n",
       "<table border=\"1\" class=\"dataframe\">\n",
       "  <thead>\n",
       "    <tr style=\"text-align: right;\">\n",
       "      <th></th>\n",
       "      <th>land_use</th>\n",
       "    </tr>\n",
       "  </thead>\n",
       "  <tbody>\n",
       "    <tr>\n",
       "      <th>0</th>\n",
       "      <td>SINGLE FAMILY</td>\n",
       "    </tr>\n",
       "    <tr>\n",
       "      <th>1</th>\n",
       "      <td>SINGLE FAMILY</td>\n",
       "    </tr>\n",
       "    <tr>\n",
       "      <th>2</th>\n",
       "      <td>SINGLE FAMILY</td>\n",
       "    </tr>\n",
       "    <tr>\n",
       "      <th>3</th>\n",
       "      <td>SINGLE FAMILY</td>\n",
       "    </tr>\n",
       "    <tr>\n",
       "      <th>4</th>\n",
       "      <td>SINGLE FAMILY</td>\n",
       "    </tr>\n",
       "    <tr>\n",
       "      <th>...</th>\n",
       "      <td>...</td>\n",
       "    </tr>\n",
       "    <tr>\n",
       "      <th>56368</th>\n",
       "      <td>SINGLE FAMILY</td>\n",
       "    </tr>\n",
       "    <tr>\n",
       "      <th>56369</th>\n",
       "      <td>SINGLE FAMILY</td>\n",
       "    </tr>\n",
       "    <tr>\n",
       "      <th>56370</th>\n",
       "      <td>SINGLE FAMILY</td>\n",
       "    </tr>\n",
       "    <tr>\n",
       "      <th>56371</th>\n",
       "      <td>SINGLE FAMILY</td>\n",
       "    </tr>\n",
       "    <tr>\n",
       "      <th>56372</th>\n",
       "      <td>SINGLE FAMILY</td>\n",
       "    </tr>\n",
       "  </tbody>\n",
       "</table>\n",
       "<p>56373 rows × 1 columns</p>\n",
       "</div>"
      ],
      "text/plain": [
       "            land_use\n",
       "0      SINGLE FAMILY\n",
       "1      SINGLE FAMILY\n",
       "2      SINGLE FAMILY\n",
       "3      SINGLE FAMILY\n",
       "4      SINGLE FAMILY\n",
       "...              ...\n",
       "56368  SINGLE FAMILY\n",
       "56369  SINGLE FAMILY\n",
       "56370  SINGLE FAMILY\n",
       "56371  SINGLE FAMILY\n",
       "56372  SINGLE FAMILY\n",
       "\n",
       "[56373 rows x 1 columns]"
      ]
     },
     "execution_count": 22,
     "metadata": {},
     "output_type": "execute_result"
    }
   ],
   "source": [
    "landusee = pd.DataFrame(df_copy['land_use'])\n",
    "landuse = pd.DataFrame(landusee)\n",
    "landuse"
   ]
  },
  {
   "cell_type": "code",
   "execution_count": 19,
   "id": "1a949417",
   "metadata": {},
   "outputs": [],
   "source": [
    "land_use_count = pd.DataFrame(columns = {0: 'count'})"
   ]
  },
  {
   "cell_type": "code",
   "execution_count": 23,
   "id": "94d6616d",
   "metadata": {},
   "outputs": [],
   "source": [
    "land_count = pd.DataFrame(landuse['land_use'].value_counts())"
   ]
  },
  {
   "cell_type": "code",
   "execution_count": 24,
   "id": "c397db1b",
   "metadata": {},
   "outputs": [
    {
     "data": {
      "text/html": [
       "<div>\n",
       "<style scoped>\n",
       "    .dataframe tbody tr th:only-of-type {\n",
       "        vertical-align: middle;\n",
       "    }\n",
       "\n",
       "    .dataframe tbody tr th {\n",
       "        vertical-align: top;\n",
       "    }\n",
       "\n",
       "    .dataframe thead th {\n",
       "        text-align: right;\n",
       "    }\n",
       "</style>\n",
       "<table border=\"1\" class=\"dataframe\">\n",
       "  <thead>\n",
       "    <tr style=\"text-align: right;\">\n",
       "      <th></th>\n",
       "      <th>land_use</th>\n",
       "    </tr>\n",
       "  </thead>\n",
       "  <tbody>\n",
       "    <tr>\n",
       "      <th>SINGLE FAMILY</th>\n",
       "      <td>34119</td>\n",
       "    </tr>\n",
       "    <tr>\n",
       "      <th>RESIDENTIAL CONDO</th>\n",
       "      <td>14064</td>\n",
       "    </tr>\n",
       "    <tr>\n",
       "      <th>VACANT RESIDENTIAL LAND</th>\n",
       "      <td>3540</td>\n",
       "    </tr>\n",
       "    <tr>\n",
       "      <th>VACANT RES LAND</th>\n",
       "      <td>1549</td>\n",
       "    </tr>\n",
       "    <tr>\n",
       "      <th>DUPLEX</th>\n",
       "      <td>1372</td>\n",
       "    </tr>\n",
       "  </tbody>\n",
       "</table>\n",
       "</div>"
      ],
      "text/plain": [
       "                         land_use\n",
       "SINGLE FAMILY               34119\n",
       "RESIDENTIAL CONDO           14064\n",
       "VACANT RESIDENTIAL LAND      3540\n",
       "VACANT RES LAND              1549\n",
       "DUPLEX                       1372"
      ]
     },
     "execution_count": 24,
     "metadata": {},
     "output_type": "execute_result"
    }
   ],
   "source": [
    "land_count.head()"
   ]
  },
  {
   "cell_type": "code",
   "execution_count": 26,
   "id": "88487e79",
   "metadata": {},
   "outputs": [],
   "source": [
    "land_count = land_count.reset_index()"
   ]
  },
  {
   "cell_type": "code",
   "execution_count": 28,
   "id": "16e751f8",
   "metadata": {},
   "outputs": [
    {
     "data": {
      "text/html": [
       "<div>\n",
       "<style scoped>\n",
       "    .dataframe tbody tr th:only-of-type {\n",
       "        vertical-align: middle;\n",
       "    }\n",
       "\n",
       "    .dataframe tbody tr th {\n",
       "        vertical-align: top;\n",
       "    }\n",
       "\n",
       "    .dataframe thead th {\n",
       "        text-align: right;\n",
       "    }\n",
       "</style>\n",
       "<table border=\"1\" class=\"dataframe\">\n",
       "  <thead>\n",
       "    <tr style=\"text-align: right;\">\n",
       "      <th></th>\n",
       "      <th>index</th>\n",
       "      <th>land_use</th>\n",
       "    </tr>\n",
       "  </thead>\n",
       "  <tbody>\n",
       "    <tr>\n",
       "      <th>0</th>\n",
       "      <td>SINGLE FAMILY</td>\n",
       "      <td>34119</td>\n",
       "    </tr>\n",
       "    <tr>\n",
       "      <th>1</th>\n",
       "      <td>RESIDENTIAL CONDO</td>\n",
       "      <td>14064</td>\n",
       "    </tr>\n",
       "    <tr>\n",
       "      <th>2</th>\n",
       "      <td>VACANT RESIDENTIAL LAND</td>\n",
       "      <td>3540</td>\n",
       "    </tr>\n",
       "    <tr>\n",
       "      <th>3</th>\n",
       "      <td>VACANT RES LAND</td>\n",
       "      <td>1549</td>\n",
       "    </tr>\n",
       "    <tr>\n",
       "      <th>4</th>\n",
       "      <td>DUPLEX</td>\n",
       "      <td>1372</td>\n",
       "    </tr>\n",
       "  </tbody>\n",
       "</table>\n",
       "</div>"
      ],
      "text/plain": [
       "                     index  land_use\n",
       "0            SINGLE FAMILY     34119\n",
       "1        RESIDENTIAL CONDO     14064\n",
       "2  VACANT RESIDENTIAL LAND      3540\n",
       "3          VACANT RES LAND      1549\n",
       "4                   DUPLEX      1372"
      ]
     },
     "execution_count": 28,
     "metadata": {},
     "output_type": "execute_result"
    }
   ],
   "source": [
    "land_count.head()"
   ]
  },
  {
   "cell_type": "code",
   "execution_count": 29,
   "id": "459ed73e",
   "metadata": {},
   "outputs": [],
   "source": [
    "land_count = land_count.rename(columns = {\n",
    "    'index':'landUse', 'land_use':'count'\n",
    "})"
   ]
  },
  {
   "cell_type": "code",
   "execution_count": 71,
   "id": "2155d64e",
   "metadata": {},
   "outputs": [],
   "source": [
    "xy = land_count.head(10)"
   ]
  },
  {
   "cell_type": "code",
   "execution_count": 54,
   "id": "3a830f34",
   "metadata": {},
   "outputs": [
    {
     "data": {
      "image/png": "[encoded data removed]",
      "text/plain": [
       "<Figure size 1080x576 with 1 Axes>"
      ]
     },
     "metadata": {
      "needs_background": "light"
     },
     "output_type": "display_data"
    }
   ],
   "source": [
    "plt.figure(figsize = (15,8))\n",
    "sns.barplot(x = land_count.loc[0:9, 'landUse'], y=land_count.loc[0:9, 'count'])\n",
    "plt.xticks(rotation = 90, fontsize = 12)\n",
    "plt.yticks(fontsize = 12)\n",
    "plt.xlabel('Land Use', fontsize = 18)\n",
    "plt.ylabel('Count', fontsize = 18)\n",
    "plt.title('Land Use Count')\n",
    "plt.show()"
   ]
  },
  {
   "cell_type": "code",
   "execution_count": 72,
   "id": "992522b5",
   "metadata": {
    "scrolled": true
   },
   "outputs": [
    {
     "data": {
      "application/vnd.plotly.v1+json": {
       "config": {
        "plotlyServerURL": "https://plot.ly"
       },
       "data": [
        {
         "alignmentgroup": "True",
         "hovertemplate": "landUse=%{x}<br>count=%{y}<extra></extra>",
         "legendgroup": "",
         "marker": {
          "color": "#636efa",
          "pattern": {
           "shape": ""
          }
         },
         "name": "",
         "offsetgroup": "",
         "orientation": "v",
         "showlegend": false,
         "textposition": "auto",
         "type": "bar",
         "x": [
          "SINGLE FAMILY",
          "RESIDENTIAL CONDO",
          "VACANT RESIDENTIAL LAND",
          "VACANT RES LAND",
          "DUPLEX",
          "ZERO LOT LINE",
          "CONDO",
          "RESIDENTIAL COMBO/MISC",
          "TRIPLEX",
          "QUADPLEX"
         ],
         "xaxis": "x",
         "y": [
          34119,
          14064,
          3540,
          1549,
          1372,
          1047,
          247,
          95,
          92,
          39
         ],
         "yaxis": "y"
        }
       ],
       "layout": {
        "barmode": "relative",
        "legend": {
         "tracegroupgap": 0
        },
        "margin": {
         "t": 60
        },
        "template": {
         "data": {
          "bar": [
           {
            "error_x": {
             "color": "#2a3f5f"
            },
            "error_y": {
             "color": "#2a3f5f"
            },
            "marker": {
             "line": {
              "color": "#E5ECF6",
              "width": 0.5
             },
             "pattern": {
              "fillmode": "overlay",
              "size": 10,
              "solidity": 0.2
             }
            },
            "type": "bar"
           }
          ],
          "barpolar": [
           {
            "marker": {
             "line": {
              "color": "#E5ECF6",
              "width": 0.5
             },
             "pattern": {
              "fillmode": "overlay",
              "size": 10,
              "solidity": 0.2
             }
            },
            "type": "barpolar"
           }
          ],
          "carpet": [
           {
            "aaxis": {
             "endlinecolor": "#2a3f5f",
             "gridcolor": "white",
             "linecolor": "white",
             "minorgridcolor": "white",
             "startlinecolor": "#2a3f5f"
            },
            "baxis": {
             "endlinecolor": "#2a3f5f",
             "gridcolor": "white",
             "linecolor": "white",
             "minorgridcolor": "white",
             "startlinecolor": "#2a3f5f"
            },
            "type": "carpet"
           }
          ],
          "choropleth": [
           {
            "colorbar": {
             "outlinewidth": 0,
             "ticks": ""
            },
            "type": "choropleth"
           }
          ],
          "contour": [
           {
            "colorbar": {
             "outlinewidth": 0,
             "ticks": ""
            },
            "colorscale": [
             [
              0,
              "#0d0887"
             ],
             [
              0.1111111111111111,
              "#46039f"
             ],
             [
              0.2222222222222222,
              "#7201a8"
             ],
             [
              0.3333333333333333,
              "#9c179e"
             ],
             [
              0.4444444444444444,
              "#bd3786"
             ],
             [
              0.5555555555555556,
              "#d8576b"
             ],
             [
              0.6666666666666666,
              "#ed7953"
             ],
             [
              0.7777777777777778,
              "#fb9f3a"
             ],
             [
              0.8888888888888888,
              "#fdca26"
             ],
             [
              1,
              "#f0f921"
             ]
            ],
            "type": "contour"
           }
          ],
          "contourcarpet": [
           {
            "colorbar": {
             "outlinewidth": 0,
             "ticks": ""
            },
            "type": "contourcarpet"
           }
          ],
          "heatmap": [
           {
            "colorbar": {
             "outlinewidth": 0,
             "ticks": ""
            },
            "colorscale": [
             [
              0,
              "#0d0887"
             ],
             [
              0.1111111111111111,
              "#46039f"
             ],
             [
              0.2222222222222222,
              "#7201a8"
             ],
             [
              0.3333333333333333,
              "#9c179e"
             ],
             [
              0.4444444444444444,
              "#bd3786"
             ],
             [
              0.5555555555555556,
              "#d8576b"
             ],
             [
              0.6666666666666666,
              "#ed7953"
             ],
             [
              0.7777777777777778,
              "#fb9f3a"
             ],
             [
              0.8888888888888888,
              "#fdca26"
             ],
             [
              1,
              "#f0f921"
             ]
            ],
            "type": "heatmap"
           }
          ],
          "heatmapgl": [
           {
            "colorbar": {
             "outlinewidth": 0,
             "ticks": ""
            },
            "colorscale": [
             [
              0,
              "#0d0887"
             ],
             [
              0.1111111111111111,
              "#46039f"
             ],
             [
              0.2222222222222222,
              "#7201a8"
             ],
             [
              0.3333333333333333,
              "#9c179e"
             ],
             [
              0.4444444444444444,
              "#bd3786"
             ],
             [
              0.5555555555555556,
              "#d8576b"
             ],
             [
              0.6666666666666666,
              "#ed7953"
             ],
             [
              0.7777777777777778,
              "#fb9f3a"
             ],
             [
              0.8888888888888888,
              "#fdca26"
             ],
             [
              1,
              "#f0f921"
             ]
            ],
            "type": "heatmapgl"
           }
          ],
          "histogram": [
           {
            "marker": {
             "pattern": {
              "fillmode": "overlay",
              "size": 10,
              "solidity": 0.2
             }
            },
            "type": "histogram"
           }
          ],
          "histogram2d": [
           {
            "colorbar": {
             "outlinewidth": 0,
             "ticks": ""
            },
            "colorscale": [
             [
              0,
              "#0d0887"
             ],
             [
              0.1111111111111111,
              "#46039f"
             ],
             [
              0.2222222222222222,
              "#7201a8"
             ],
             [
              0.3333333333333333,
              "#9c179e"
             ],
             [
              0.4444444444444444,
              "#bd3786"
             ],
             [
              0.5555555555555556,
              "#d8576b"
             ],
             [
              0.6666666666666666,
              "#ed7953"
             ],
             [
              0.7777777777777778,
              "#fb9f3a"
             ],
             [
              0.8888888888888888,
              "#fdca26"
             ],
             [
              1,
              "#f0f921"
             ]
            ],
            "type": "histogram2d"
           }
          ],
          "histogram2dcontour": [
           {
            "colorbar": {
             "outlinewidth": 0,
             "ticks": ""
            },
            "colorscale": [
             [
              0,
              "#0d0887"
             ],
             [
              0.1111111111111111,
              "#46039f"
             ],
             [
              0.2222222222222222,
              "#7201a8"
             ],
             [
              0.3333333333333333,
              "#9c179e"
             ],
             [
              0.4444444444444444,
              "#bd3786"
             ],
             [
              0.5555555555555556,
              "#d8576b"
             ],
             [
              0.6666666666666666,
              "#ed7953"
             ],
             [
              0.7777777777777778,
              "#fb9f3a"
             ],
             [
              0.8888888888888888,
              "#fdca26"
             ],
             [
              1,
              "#f0f921"
             ]
            ],
            "type": "histogram2dcontour"
           }
          ],
          "mesh3d": [
           {
            "colorbar": {
             "outlinewidth": 0,
             "ticks": ""
            },
            "type": "mesh3d"
           }
          ],
          "parcoords": [
           {
            "line": {
             "colorbar": {
              "outlinewidth": 0,
              "ticks": ""
             }
            },
            "type": "parcoords"
           }
          ],
          "pie": [
           {
            "automargin": true,
            "type": "pie"
           }
          ],
          "scatter": [
           {
            "fillpattern": {
             "fillmode": "overlay",
             "size": 10,
             "solidity": 0.2
            },
            "type": "scatter"
           }
          ],
          "scatter3d": [
           {
            "line": {
             "colorbar": {
              "outlinewidth": 0,
              "ticks": ""
             }
            },
            "marker": {
             "colorbar": {
              "outlinewidth": 0,
              "ticks": ""
             }
            },
            "type": "scatter3d"
           }
          ],
          "scattercarpet": [
           {
            "marker": {
             "colorbar": {
              "outlinewidth": 0,
              "ticks": ""
             }
            },
            "type": "scattercarpet"
           }
          ],
          "scattergeo": [
           {
            "marker": {
             "colorbar": {
              "outlinewidth": 0,
              "ticks": ""
             }
            },
            "type": "scattergeo"
           }
          ],
          "scattergl": [
           {
            "marker": {
             "colorbar": {
              "outlinewidth": 0,
              "ticks": ""
             }
            },
            "type": "scattergl"
           }
          ],
          "scattermapbox": [
           {
            "marker": {
             "colorbar": {
              "outlinewidth": 0,
              "ticks": ""
             }
            },
            "type": "scattermapbox"
           }
          ],
          "scatterpolar": [
           {
            "marker": {
             "colorbar": {
              "outlinewidth": 0,
              "ticks": ""
             }
            },
            "type": "scatterpolar"
           }
          ],
          "scatterpolargl": [
           {
            "marker": {
             "colorbar": {
              "outlinewidth": 0,
              "ticks": ""
             }
            },
            "type": "scatterpolargl"
           }
          ],
          "scatterternary": [
           {
            "marker": {
             "colorbar": {
              "outlinewidth": 0,
              "ticks": ""
             }
            },
            "type": "scatterternary"
           }
          ],
          "surface": [
           {
            "colorbar": {
             "outlinewidth": 0,
             "ticks": ""
            },
            "colorscale": [
             [
              0,
              "#0d0887"
             ],
             [
              0.1111111111111111,
              "#46039f"
             ],
             [
              0.2222222222222222,
              "#7201a8"
             ],
             [
              0.3333333333333333,
              "#9c179e"
             ],
             [
              0.4444444444444444,
              "#bd3786"
             ],
             [
              0.5555555555555556,
              "#d8576b"
             ],
             [
              0.6666666666666666,
              "#ed7953"
             ],
             [
              0.7777777777777778,
              "#fb9f3a"
             ],
             [
              0.8888888888888888,
              "#fdca26"
             ],
             [
              1,
              "#f0f921"
             ]
            ],
            "type": "surface"
           }
          ],
          "table": [
           {
            "cells": {
             "fill": {
              "color": "#EBF0F8"
             },
             "line": {
              "color": "white"
             }
            },
            "header": {
             "fill": {
              "color": "#C8D4E3"
             },
             "line": {
              "color": "white"
             }
            },
            "type": "table"
           }
          ]
         },
         "layout": {
          "annotationdefaults": {
           "arrowcolor": "#2a3f5f",
           "arrowhead": 0,
           "arrowwidth": 1
          },
          "autotypenumbers": "strict",
          "coloraxis": {
           "colorbar": {
            "outlinewidth": 0,
            "ticks": ""
           }
          },
          "colorscale": {
           "diverging": [
            [
             0,
             "#8e0152"
            ],
            [
             0.1,
             "#c51b7d"
            ],
            [
             0.2,
             "#de77ae"
            ],
            [
             0.3,
             "#f1b6da"
            ],
            [
             0.4,
             "#fde0ef"
            ],
            [
             0.5,
             "#f7f7f7"
            ],
            [
             0.6,
             "#e6f5d0"
            ],
            [
             0.7,
             "#b8e186"
            ],
            [
             0.8,
             "#7fbc41"
            ],
            [
             0.9,
             "#4d9221"
            ],
            [
             1,
             "#276419"
            ]
           ],
           "sequential": [
            [
             0,
             "#0d0887"
            ],
            [
             0.1111111111111111,
             "#46039f"
            ],
            [
             0.2222222222222222,
             "#7201a8"
            ],
            [
             0.3333333333333333,
             "#9c179e"
            ],
            [
             0.4444444444444444,
             "#bd3786"
            ],
            [
             0.5555555555555556,
             "#d8576b"
            ],
            [
             0.6666666666666666,
             "#ed7953"
            ],
            [
             0.7777777777777778,
             "#fb9f3a"
            ],
            [
             0.8888888888888888,
             "#fdca26"
            ],
            [
             1,
             "#f0f921"
            ]
           ],
           "sequentialminus": [
            [
             0,
             "#0d0887"
            ],
            [
             0.1111111111111111,
             "#46039f"
            ],
            [
             0.2222222222222222,
             "#7201a8"
            ],
            [
             0.3333333333333333,
             "#9c179e"
            ],
            [
             0.4444444444444444,
             "#bd3786"
            ],
            [
             0.5555555555555556,
             "#d8576b"
            ],
            [
             0.6666666666666666,
             "#ed7953"
            ],
            [
             0.7777777777777778,
             "#fb9f3a"
            ],
            [
             0.8888888888888888,
             "#fdca26"
            ],
            [
             1,
             "#f0f921"
            ]
           ]
          },
          "colorway": [
           "#636efa",
           "#EF553B",
           "#00cc96",
           "#ab63fa",
           "#FFA15A",
           "#19d3f3",
           "#FF6692",
           "#B6E880",
           "#FF97FF",
           "#FECB52"
          ],
          "font": {
           "color": "#2a3f5f"
          },
          "geo": {
           "bgcolor": "white",
           "lakecolor": "white",
           "landcolor": "#E5ECF6",
           "showlakes": true,
           "showland": true,
           "subunitcolor": "white"
          },
          "hoverlabel": {
           "align": "left"
          },
          "hovermode": "closest",
          "mapbox": {
           "style": "light"
          },
          "paper_bgcolor": "white",
          "plot_bgcolor": "#E5ECF6",
          "polar": {
           "angularaxis": {
            "gridcolor": "white",
            "linecolor": "white",
            "ticks": ""
           },
           "bgcolor": "#E5ECF6",
           "radialaxis": {
            "gridcolor": "white",
            "linecolor": "white",
            "ticks": ""
           }
          },
          "scene": {
           "xaxis": {
            "backgroundcolor": "#E5ECF6",
            "gridcolor": "white",
            "gridwidth": 2,
            "linecolor": "white",
            "showbackground": true,
            "ticks": "",
            "zerolinecolor": "white"
           },
           "yaxis": {
            "backgroundcolor": "#E5ECF6",
            "gridcolor": "white",
            "gridwidth": 2,
            "linecolor": "white",
            "showbackground": true,
            "ticks": "",
            "zerolinecolor": "white"
           },
           "zaxis": {
            "backgroundcolor": "#E5ECF6",
            "gridcolor": "white",
            "gridwidth": 2,
            "linecolor": "white",
            "showbackground": true,
            "ticks": "",
            "zerolinecolor": "white"
           }
          },
          "shapedefaults": {
           "line": {
            "color": "#2a3f5f"
           }
          },
          "ternary": {
           "aaxis": {
            "gridcolor": "white",
            "linecolor": "white",
            "ticks": ""
           },
           "baxis": {
            "gridcolor": "white",
            "linecolor": "white",
            "ticks": ""
           },
           "bgcolor": "#E5ECF6",
           "caxis": {
            "gridcolor": "white",
            "linecolor": "white",
            "ticks": ""
           }
          },
          "title": {
           "x": 0.05
          },
          "xaxis": {
           "automargin": true,
           "gridcolor": "white",
           "linecolor": "white",
           "ticks": "",
           "title": {
            "standoff": 15
           },
           "zerolinecolor": "white",
           "zerolinewidth": 2
          },
          "yaxis": {
           "automargin": true,
           "gridcolor": "white",
           "linecolor": "white",
           "ticks": "",
           "title": {
            "standoff": 15
           },
           "zerolinecolor": "white",
           "zerolinewidth": 2
          }
         }
        },
        "xaxis": {
         "anchor": "y",
         "domain": [
          0,
          1
         ],
         "title": {
          "text": "landUse"
         }
        },
        "yaxis": {
         "anchor": "x",
         "domain": [
          0,
          1
         ],
         "title": {
          "text": "count"
         }
        }
       }
      },
      "text/html": [
       "<div>                            <div id=\"0cda7381-ec36-49e0-8bbc-ce03c6a935a5\" class=\"plotly-graph-div\" style=\"height:525px; width:100%;\"></div>            <script type=\"text/javascript\">                require([\"plotly\"], function(Plotly) {                    window.PLOTLYENV=window.PLOTLYENV || {};                                    if (document.getElementById(\"0cda7381-ec36-49e0-8bbc-ce03c6a935a5\")) {                    Plotly.newPlot(                        \"0cda7381-ec36-49e0-8bbc-ce03c6a935a5\",                        [{\"alignmentgroup\":\"True\",\"hovertemplate\":\"landUse=%{x}<br>count=%{y}<extra></extra>\",\"legendgroup\":\"\",\"marker\":{\"color\":\"#636efa\",\"pattern\":{\"shape\":\"\"}},\"name\":\"\",\"offsetgroup\":\"\",\"orientation\":\"v\",\"showlegend\":false,\"textposition\":\"auto\",\"x\":[\"SINGLE FAMILY\",\"RESIDENTIAL CONDO\",\"VACANT RESIDENTIAL LAND\",\"VACANT RES LAND\",\"DUPLEX\",\"ZERO LOT LINE\",\"CONDO\",\"RESIDENTIAL COMBO/MISC\",\"TRIPLEX\",\"QUADPLEX\"],\"xaxis\":\"x\",\"y\":[34119,14064,3540,1549,1372,1047,247,95,92,39],\"yaxis\":\"y\",\"type\":\"bar\"}],                        {\"template\":{\"data\":{\"histogram2dcontour\":[{\"type\":\"histogram2dcontour\",\"colorbar\":{\"outlinewidth\":0,\"ticks\":\"\"},\"colorscale\":[[0.0,\"#0d0887\"],[0.1111111111111111,\"#46039f\"],[0.2222222222222222,\"#7201a8\"],[0.3333333333333333,\"#9c179e\"],[0.4444444444444444,\"#bd3786\"],[0.5555555555555556,\"#d8576b\"],[0.6666666666666666,\"#ed7953\"],[0.7777777777777778,\"#fb9f3a\"],[0.8888888888888888,\"#fdca26\"],[1.0,\"#f0f921\"]]}],\"choropleth\":[{\"type\":\"choropleth\",\"colorbar\":{\"outlinewidth\":0,\"ticks\":\"\"}}],\"histogram2d\":[{\"type\":\"histogram2d\",\"colorbar\":{\"outlinewidth\":0,\"ticks\":\"\"},\"colorscale\":[[0.0,\"#0d0887\"],[0.1111111111111111,\"#46039f\"],[0.2222222222222222,\"#7201a8\"],[0.3333333333333333,\"#9c179e\"],[0.4444444444444444,\"#bd3786\"],[0.5555555555555556,\"#d8576b\"],[0.6666666666666666,\"#ed7953\"],[0.7777777777777778,\"#fb9f3a\"],[0.8888888888888888,\"#fdca26\"],[1.0,\"#f0f921\"]]}],\"heatmap\":[{\"type\":\"heatmap\",\"colorbar\":{\"outlinewidth\":0,\"ticks\":\"\"},\"colorscale\":[[0.0,\"#0d0887\"],[0.1111111111111111,\"#46039f\"],[0.2222222222222222,\"#7201a8\"],[0.3333333333333333,\"#9c179e\"],[0.4444444444444444,\"#bd3786\"],[0.5555555555555556,\"#d8576b\"],[0.6666666666666666,\"#ed7953\"],[0.7777777777777778,\"#fb9f3a\"],[0.8888888888888888,\"#fdca26\"],[1.0,\"#f0f921\"]]}],\"heatmapgl\":[{\"type\":\"heatmapgl\",\"colorbar\":{\"outlinewidth\":0,\"ticks\":\"\"},\"colorscale\":[[0.0,\"#0d0887\"],[0.1111111111111111,\"#46039f\"],[0.2222222222222222,\"#7201a8\"],[0.3333333333333333,\"#9c179e\"],[0.4444444444444444,\"#bd3786\"],[0.5555555555555556,\"#d8576b\"],[0.6666666666666666,\"#ed7953\"],[0.7777777777777778,\"#fb9f3a\"],[0.8888888888888888,\"#fdca26\"],[1.0,\"#f0f921\"]]}],\"contourcarpet\":[{\"type\":\"contourcarpet\",\"colorbar\":{\"outlinewidth\":0,\"ticks\":\"\"}}],\"contour\":[{\"type\":\"contour\",\"colorbar\":{\"outlinewidth\":0,\"ticks\":\"\"},\"colorscale\":[[0.0,\"#0d0887\"],[0.1111111111111111,\"#46039f\"],[0.2222222222222222,\"#7201a8\"],[0.3333333333333333,\"#9c179e\"],[0.4444444444444444,\"#bd3786\"],[0.5555555555555556,\"#d8576b\"],[0.6666666666666666,\"#ed7953\"],[0.7777777777777778,\"#fb9f3a\"],[0.8888888888888888,\"#fdca26\"],[1.0,\"#f0f921\"]]}],\"surface\":[{\"type\":\"surface\",\"colorbar\":{\"outlinewidth\":0,\"ticks\":\"\"},\"colorscale\":[[0.0,\"#0d0887\"],[0.1111111111111111,\"#46039f\"],[0.2222222222222222,\"#7201a8\"],[0.3333333333333333,\"#9c179e\"],[0.4444444444444444,\"#bd3786\"],[0.5555555555555556,\"#d8576b\"],[0.6666666666666666,\"#ed7953\"],[0.7777777777777778,\"#fb9f3a\"],[0.8888888888888888,\"#fdca26\"],[1.0,\"#f0f921\"]]}],\"mesh3d\":[{\"type\":\"mesh3d\",\"colorbar\":{\"outlinewidth\":0,\"ticks\":\"\"}}],\"scatter\":[{\"fillpattern\":{\"fillmode\":\"overlay\",\"size\":10,\"solidity\":0.2},\"type\":\"scatter\"}],\"parcoords\":[{\"type\":\"parcoords\",\"line\":{\"colorbar\":{\"outlinewidth\":0,\"ticks\":\"\"}}}],\"scatterpolargl\":[{\"type\":\"scatterpolargl\",\"marker\":{\"colorbar\":{\"outlinewidth\":0,\"ticks\":\"\"}}}],\"bar\":[{\"error_x\":{\"color\":\"#2a3f5f\"},\"error_y\":{\"color\":\"#2a3f5f\"},\"marker\":{\"line\":{\"color\":\"#E5ECF6\",\"width\":0.5},\"pattern\":{\"fillmode\":\"overlay\",\"size\":10,\"solidity\":0.2}},\"type\":\"bar\"}],\"scattergeo\":[{\"type\":\"scattergeo\",\"marker\":{\"colorbar\":{\"outlinewidth\":0,\"ticks\":\"\"}}}],\"scatterpolar\":[{\"type\":\"scatterpolar\",\"marker\":{\"colorbar\":{\"outlinewidth\":0,\"ticks\":\"\"}}}],\"histogram\":[{\"marker\":{\"pattern\":{\"fillmode\":\"overlay\",\"size\":10,\"solidity\":0.2}},\"type\":\"histogram\"}],\"scattergl\":[{\"type\":\"scattergl\",\"marker\":{\"colorbar\":{\"outlinewidth\":0,\"ticks\":\"\"}}}],\"scatter3d\":[{\"type\":\"scatter3d\",\"line\":{\"colorbar\":{\"outlinewidth\":0,\"ticks\":\"\"}},\"marker\":{\"colorbar\":{\"outlinewidth\":0,\"ticks\":\"\"}}}],\"scattermapbox\":[{\"type\":\"scattermapbox\",\"marker\":{\"colorbar\":{\"outlinewidth\":0,\"ticks\":\"\"}}}],\"scatterternary\":[{\"type\":\"scatterternary\",\"marker\":{\"colorbar\":{\"outlinewidth\":0,\"ticks\":\"\"}}}],\"scattercarpet\":[{\"type\":\"scattercarpet\",\"marker\":{\"colorbar\":{\"outlinewidth\":0,\"ticks\":\"\"}}}],\"carpet\":[{\"aaxis\":{\"endlinecolor\":\"#2a3f5f\",\"gridcolor\":\"white\",\"linecolor\":\"white\",\"minorgridcolor\":\"white\",\"startlinecolor\":\"#2a3f5f\"},\"baxis\":{\"endlinecolor\":\"#2a3f5f\",\"gridcolor\":\"white\",\"linecolor\":\"white\",\"minorgridcolor\":\"white\",\"startlinecolor\":\"#2a3f5f\"},\"type\":\"carpet\"}],\"table\":[{\"cells\":{\"fill\":{\"color\":\"#EBF0F8\"},\"line\":{\"color\":\"white\"}},\"header\":{\"fill\":{\"color\":\"#C8D4E3\"},\"line\":{\"color\":\"white\"}},\"type\":\"table\"}],\"barpolar\":[{\"marker\":{\"line\":{\"color\":\"#E5ECF6\",\"width\":0.5},\"pattern\":{\"fillmode\":\"overlay\",\"size\":10,\"solidity\":0.2}},\"type\":\"barpolar\"}],\"pie\":[{\"automargin\":true,\"type\":\"pie\"}]},\"layout\":{\"autotypenumbers\":\"strict\",\"colorway\":[\"#636efa\",\"#EF553B\",\"#00cc96\",\"#ab63fa\",\"#FFA15A\",\"#19d3f3\",\"#FF6692\",\"#B6E880\",\"#FF97FF\",\"#FECB52\"],\"font\":{\"color\":\"#2a3f5f\"},\"hovermode\":\"closest\",\"hoverlabel\":{\"align\":\"left\"},\"paper_bgcolor\":\"white\",\"plot_bgcolor\":\"#E5ECF6\",\"polar\":{\"bgcolor\":\"#E5ECF6\",\"angularaxis\":{\"gridcolor\":\"white\",\"linecolor\":\"white\",\"ticks\":\"\"},\"radialaxis\":{\"gridcolor\":\"white\",\"linecolor\":\"white\",\"ticks\":\"\"}},\"ternary\":{\"bgcolor\":\"#E5ECF6\",\"aaxis\":{\"gridcolor\":\"white\",\"linecolor\":\"white\",\"ticks\":\"\"},\"baxis\":{\"gridcolor\":\"white\",\"linecolor\":\"white\",\"ticks\":\"\"},\"caxis\":{\"gridcolor\":\"white\",\"linecolor\":\"white\",\"ticks\":\"\"}},\"coloraxis\":{\"colorbar\":{\"outlinewidth\":0,\"ticks\":\"\"}},\"colorscale\":{\"sequential\":[[0.0,\"#0d0887\"],[0.1111111111111111,\"#46039f\"],[0.2222222222222222,\"#7201a8\"],[0.3333333333333333,\"#9c179e\"],[0.4444444444444444,\"#bd3786\"],[0.5555555555555556,\"#d8576b\"],[0.6666666666666666,\"#ed7953\"],[0.7777777777777778,\"#fb9f3a\"],[0.8888888888888888,\"#fdca26\"],[1.0,\"#f0f921\"]],\"sequentialminus\":[[0.0,\"#0d0887\"],[0.1111111111111111,\"#46039f\"],[0.2222222222222222,\"#7201a8\"],[0.3333333333333333,\"#9c179e\"],[0.4444444444444444,\"#bd3786\"],[0.5555555555555556,\"#d8576b\"],[0.6666666666666666,\"#ed7953\"],[0.7777777777777778,\"#fb9f3a\"],[0.8888888888888888,\"#fdca26\"],[1.0,\"#f0f921\"]],\"diverging\":[[0,\"#8e0152\"],[0.1,\"#c51b7d\"],[0.2,\"#de77ae\"],[0.3,\"#f1b6da\"],[0.4,\"#fde0ef\"],[0.5,\"#f7f7f7\"],[0.6,\"#e6f5d0\"],[0.7,\"#b8e186\"],[0.8,\"#7fbc41\"],[0.9,\"#4d9221\"],[1,\"#276419\"]]},\"xaxis\":{\"gridcolor\":\"white\",\"linecolor\":\"white\",\"ticks\":\"\",\"title\":{\"standoff\":15},\"zerolinecolor\":\"white\",\"automargin\":true,\"zerolinewidth\":2},\"yaxis\":{\"gridcolor\":\"white\",\"linecolor\":\"white\",\"ticks\":\"\",\"title\":{\"standoff\":15},\"zerolinecolor\":\"white\",\"automargin\":true,\"zerolinewidth\":2},\"scene\":{\"xaxis\":{\"backgroundcolor\":\"#E5ECF6\",\"gridcolor\":\"white\",\"linecolor\":\"white\",\"showbackground\":true,\"ticks\":\"\",\"zerolinecolor\":\"white\",\"gridwidth\":2},\"yaxis\":{\"backgroundcolor\":\"#E5ECF6\",\"gridcolor\":\"white\",\"linecolor\":\"white\",\"showbackground\":true,\"ticks\":\"\",\"zerolinecolor\":\"white\",\"gridwidth\":2},\"zaxis\":{\"backgroundcolor\":\"#E5ECF6\",\"gridcolor\":\"white\",\"linecolor\":\"white\",\"showbackground\":true,\"ticks\":\"\",\"zerolinecolor\":\"white\",\"gridwidth\":2}},\"shapedefaults\":{\"line\":{\"color\":\"#2a3f5f\"}},\"annotationdefaults\":{\"arrowcolor\":\"#2a3f5f\",\"arrowhead\":0,\"arrowwidth\":1},\"geo\":{\"bgcolor\":\"white\",\"landcolor\":\"#E5ECF6\",\"subunitcolor\":\"white\",\"showland\":true,\"showlakes\":true,\"lakecolor\":\"white\"},\"title\":{\"x\":0.05},\"mapbox\":{\"style\":\"light\"}}},\"xaxis\":{\"anchor\":\"y\",\"domain\":[0.0,1.0],\"title\":{\"text\":\"landUse\"}},\"yaxis\":{\"anchor\":\"x\",\"domain\":[0.0,1.0],\"title\":{\"text\":\"count\"}},\"legend\":{\"tracegroupgap\":0},\"margin\":{\"t\":60},\"barmode\":\"relative\"},                        {\"responsive\": true}                    ).then(function(){\n",
       "                            \n",
       "var gd = document.getElementById('0cda7381-ec36-49e0-8bbc-ce03c6a935a5');\n",
       "var x = new MutationObserver(function (mutations, observer) {{\n",
       "        var display = window.getComputedStyle(gd).display;\n",
       "        if (!display || display === 'none') {{\n",
       "            console.log([gd, 'removed!']);\n",
       "            Plotly.purge(gd);\n",
       "            observer.disconnect();\n",
       "        }}\n",
       "}});\n",
       "\n",
       "// Listen for the removal of the full notebook cells\n",
       "var notebookContainer = gd.closest('#notebook-container');\n",
       "if (notebookContainer) {{\n",
       "    x.observe(notebookContainer, {childList: true});\n",
       "}}\n",
       "\n",
       "// Listen for the clearing of the current output cell\n",
       "var outputEl = gd.closest('.output');\n",
       "if (outputEl) {{\n",
       "    x.observe(outputEl, {childList: true});\n",
       "}}\n",
       "\n",
       "                        })                };                });            </script>        </div>"
      ]
     },
     "metadata": {},
     "output_type": "display_data"
    }
   ],
   "source": [
    "px.bar(xy, x= 'landUse', y = 'count')"
   ]
  },
  {
   "cell_type": "code",
   "execution_count": 42,
   "id": "9ad4551f",
   "metadata": {},
   "outputs": [
    {
     "data": {
      "text/html": [
       "<div>\n",
       "<style scoped>\n",
       "    .dataframe tbody tr th:only-of-type {\n",
       "        vertical-align: middle;\n",
       "    }\n",
       "\n",
       "    .dataframe tbody tr th {\n",
       "        vertical-align: top;\n",
       "    }\n",
       "\n",
       "    .dataframe thead th {\n",
       "        text-align: right;\n",
       "    }\n",
       "</style>\n",
       "<table border=\"1\" class=\"dataframe\">\n",
       "  <thead>\n",
       "    <tr style=\"text-align: right;\">\n",
       "      <th></th>\n",
       "      <th>UniqueID</th>\n",
       "      <th>ParcelID</th>\n",
       "      <th>land_use</th>\n",
       "      <th>sale_price</th>\n",
       "      <th>LegalReference</th>\n",
       "      <th>sold_as_vacant</th>\n",
       "      <th>OwnerName</th>\n",
       "      <th>Acreage</th>\n",
       "      <th>LandValue</th>\n",
       "      <th>BuildingValue</th>\n",
       "      <th>...</th>\n",
       "      <th>YearBuilt</th>\n",
       "      <th>Bedrooms</th>\n",
       "      <th>FullBath</th>\n",
       "      <th>HalfBath</th>\n",
       "      <th>Sale_year</th>\n",
       "      <th>PropertySplitAddress</th>\n",
       "      <th>property_city</th>\n",
       "      <th>OwnerSplitAddress</th>\n",
       "      <th>OwnerSplitCity</th>\n",
       "      <th>OwnerSplitState</th>\n",
       "    </tr>\n",
       "  </thead>\n",
       "  <tbody>\n",
       "    <tr>\n",
       "      <th>0</th>\n",
       "      <td>2045</td>\n",
       "      <td>007 00 0 125.00</td>\n",
       "      <td>SINGLE FAMILY</td>\n",
       "      <td>240000</td>\n",
       "      <td>20130412-0036474</td>\n",
       "      <td>No</td>\n",
       "      <td>FRAZIER, CYRENTHA LYNETTE</td>\n",
       "      <td>2.3</td>\n",
       "      <td>50000.0</td>\n",
       "      <td>168200.0</td>\n",
       "      <td>...</td>\n",
       "      <td>1986.0</td>\n",
       "      <td>3.0</td>\n",
       "      <td>3.0</td>\n",
       "      <td>0.0</td>\n",
       "      <td>4/9/2013</td>\n",
       "      <td>1808  FOX CHASE DR</td>\n",
       "      <td>GOODLETTSVILLE</td>\n",
       "      <td>1808  FOX CHASE DR</td>\n",
       "      <td>GOODLETTSVILLE</td>\n",
       "      <td>TN</td>\n",
       "    </tr>\n",
       "    <tr>\n",
       "      <th>1</th>\n",
       "      <td>16918</td>\n",
       "      <td>007 00 0 130.00</td>\n",
       "      <td>SINGLE FAMILY</td>\n",
       "      <td>366000</td>\n",
       "      <td>20140619-0053768</td>\n",
       "      <td>No</td>\n",
       "      <td>BONER, CHARLES &amp; LESLIE</td>\n",
       "      <td>3.5</td>\n",
       "      <td>50000.0</td>\n",
       "      <td>264100.0</td>\n",
       "      <td>...</td>\n",
       "      <td>1998.0</td>\n",
       "      <td>3.0</td>\n",
       "      <td>3.0</td>\n",
       "      <td>2.0</td>\n",
       "      <td>6/10/2014</td>\n",
       "      <td>1832  FOX CHASE DR</td>\n",
       "      <td>GOODLETTSVILLE</td>\n",
       "      <td>1832  FOX CHASE DR</td>\n",
       "      <td>GOODLETTSVILLE</td>\n",
       "      <td>TN</td>\n",
       "    </tr>\n",
       "    <tr>\n",
       "      <th>2</th>\n",
       "      <td>54582</td>\n",
       "      <td>007 00 0 138.00</td>\n",
       "      <td>SINGLE FAMILY</td>\n",
       "      <td>435000</td>\n",
       "      <td>20160927-0101718</td>\n",
       "      <td>No</td>\n",
       "      <td>WILSON, JAMES E. &amp; JOANNE</td>\n",
       "      <td>2.9</td>\n",
       "      <td>50000.0</td>\n",
       "      <td>216200.0</td>\n",
       "      <td>...</td>\n",
       "      <td>1987.0</td>\n",
       "      <td>4.0</td>\n",
       "      <td>3.0</td>\n",
       "      <td>0.0</td>\n",
       "      <td>9/26/2016</td>\n",
       "      <td>1864 FOX CHASE  DR</td>\n",
       "      <td>GOODLETTSVILLE</td>\n",
       "      <td>1864  FOX CHASE DR</td>\n",
       "      <td>GOODLETTSVILLE</td>\n",
       "      <td>TN</td>\n",
       "    </tr>\n",
       "    <tr>\n",
       "      <th>3</th>\n",
       "      <td>43070</td>\n",
       "      <td>007 00 0 143.00</td>\n",
       "      <td>SINGLE FAMILY</td>\n",
       "      <td>255000</td>\n",
       "      <td>20160129-0008913</td>\n",
       "      <td>No</td>\n",
       "      <td>BAKER, JAY K. &amp; SUSAN E.</td>\n",
       "      <td>2.6</td>\n",
       "      <td>50000.0</td>\n",
       "      <td>147300.0</td>\n",
       "      <td>...</td>\n",
       "      <td>1985.0</td>\n",
       "      <td>3.0</td>\n",
       "      <td>3.0</td>\n",
       "      <td>0.0</td>\n",
       "      <td>1/29/2016</td>\n",
       "      <td>1853  FOX CHASE DR</td>\n",
       "      <td>GOODLETTSVILLE</td>\n",
       "      <td>1853  FOX CHASE DR</td>\n",
       "      <td>GOODLETTSVILLE</td>\n",
       "      <td>TN</td>\n",
       "    </tr>\n",
       "    <tr>\n",
       "      <th>4</th>\n",
       "      <td>22714</td>\n",
       "      <td>007 00 0 149.00</td>\n",
       "      <td>SINGLE FAMILY</td>\n",
       "      <td>278000</td>\n",
       "      <td>20141015-0095255</td>\n",
       "      <td>No</td>\n",
       "      <td>POST, CHRISTOPHER M. &amp; SAMANTHA C.</td>\n",
       "      <td>2.0</td>\n",
       "      <td>50000.0</td>\n",
       "      <td>152300.0</td>\n",
       "      <td>...</td>\n",
       "      <td>1984.0</td>\n",
       "      <td>4.0</td>\n",
       "      <td>3.0</td>\n",
       "      <td>0.0</td>\n",
       "      <td>10/10/2014</td>\n",
       "      <td>1829  FOX CHASE DR</td>\n",
       "      <td>GOODLETTSVILLE</td>\n",
       "      <td>1829  FOX CHASE DR</td>\n",
       "      <td>GOODLETTSVILLE</td>\n",
       "      <td>TN</td>\n",
       "    </tr>\n",
       "  </tbody>\n",
       "</table>\n",
       "<p>5 rows × 21 columns</p>\n",
       "</div>"
      ],
      "text/plain": [
       "   UniqueID          ParcelID       land_use  sale_price    LegalReference  \\\n",
       "0       2045  007 00 0 125.00  SINGLE FAMILY      240000  20130412-0036474   \n",
       "1      16918  007 00 0 130.00  SINGLE FAMILY      366000  20140619-0053768   \n",
       "2      54582  007 00 0 138.00  SINGLE FAMILY      435000  20160927-0101718   \n",
       "3      43070  007 00 0 143.00  SINGLE FAMILY      255000  20160129-0008913   \n",
       "4      22714  007 00 0 149.00  SINGLE FAMILY      278000  20141015-0095255   \n",
       "\n",
       "  sold_as_vacant                           OwnerName  Acreage  LandValue  \\\n",
       "0             No           FRAZIER, CYRENTHA LYNETTE      2.3    50000.0   \n",
       "1             No             BONER, CHARLES & LESLIE      3.5    50000.0   \n",
       "2             No           WILSON, JAMES E. & JOANNE      2.9    50000.0   \n",
       "3             No            BAKER, JAY K. & SUSAN E.      2.6    50000.0   \n",
       "4             No  POST, CHRISTOPHER M. & SAMANTHA C.      2.0    50000.0   \n",
       "\n",
       "   BuildingValue  ...  YearBuilt  Bedrooms  FullBath  HalfBath   Sale_year  \\\n",
       "0       168200.0  ...     1986.0       3.0       3.0       0.0    4/9/2013   \n",
       "1       264100.0  ...     1998.0       3.0       3.0       2.0   6/10/2014   \n",
       "2       216200.0  ...     1987.0       4.0       3.0       0.0   9/26/2016   \n",
       "3       147300.0  ...     1985.0       3.0       3.0       0.0   1/29/2016   \n",
       "4       152300.0  ...     1984.0       4.0       3.0       0.0  10/10/2014   \n",
       "\n",
       "  PropertySplitAddress    property_city   OwnerSplitAddress   OwnerSplitCity  \\\n",
       "0   1808  FOX CHASE DR   GOODLETTSVILLE  1808  FOX CHASE DR   GOODLETTSVILLE   \n",
       "1   1832  FOX CHASE DR   GOODLETTSVILLE  1832  FOX CHASE DR   GOODLETTSVILLE   \n",
       "2   1864 FOX CHASE  DR   GOODLETTSVILLE  1864  FOX CHASE DR   GOODLETTSVILLE   \n",
       "3   1853  FOX CHASE DR   GOODLETTSVILLE  1853  FOX CHASE DR   GOODLETTSVILLE   \n",
       "4   1829  FOX CHASE DR   GOODLETTSVILLE  1829  FOX CHASE DR   GOODLETTSVILLE   \n",
       "\n",
       "  OwnerSplitState  \n",
       "0              TN  \n",
       "1              TN  \n",
       "2              TN  \n",
       "3              TN  \n",
       "4              TN  \n",
       "\n",
       "[5 rows x 21 columns]"
      ]
     },
     "execution_count": 42,
     "metadata": {},
     "output_type": "execute_result"
    }
   ],
   "source": [
    "df_copy.head()"
   ]
  },
  {
   "cell_type": "code",
   "execution_count": null,
   "id": "d1a0da0c",
   "metadata": {},
   "outputs": [],
   "source": []
  }
 ],
 "metadata": {
  "kernelspec": {
   "display_name": "Python 3 (ipykernel)",
   "language": "python",
   "name": "python3"
  },
  "language_info": {
   "codemirror_mode": {
    "name": "ipython",
    "version": 3
   },
   "file_extension": ".py",
   "mimetype": "text/x-python",
   "name": "python",
   "nbconvert_exporter": "python",
   "pygments_lexer": "ipython3",
   "version": "3.9.7"
  }
 },
 "nbformat": 4,
 "nbformat_minor": 5
}
